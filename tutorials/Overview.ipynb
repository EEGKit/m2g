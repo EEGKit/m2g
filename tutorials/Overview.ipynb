{
 "cells": [
  {
   "cell_type": "markdown",
   "metadata": {},
   "source": [
    "# Ndmg Tutorial: Running Inside Python"
   ]
  },
  {
   "cell_type": "markdown",
   "metadata": {},
   "source": [
    "This tutorial provides a basic overview of how to run ndmg manually within Python. <br>\n",
    "We begin by checking for dependencies,\n",
    "then we set our input parameters,\n",
    "then we smiply run the pipeline.\n",
    "\n",
    "Running the pipeline is quite simple: call `ndmg_dwi_pipeline.ndmg_dwi_worker` with the correct arguments. <br>\n",
    "\n",
    "\n",
    "Note that, although you can run the pipeline in Python, the absolute easiest way (outside Gigantum) is to run the pipeline from the command line once all dependencies are installed using the following command: <br>\n",
    "`ndmg_bids </absolute/input/dir> </absolute/output/dir>`. <br>\n",
    "This will run a single session from the input directory, and output the results into your output directory.\n",
    "\n",
    "But for now, let's look at running in Python -- <br>\n",
    "Let's begin!"
   ]
  },
  {
   "cell_type": "code",
   "execution_count": 1,
   "metadata": {},
   "outputs": [
    {
     "name": "stderr",
     "output_type": "stream",
     "text": [
      "/opt/conda/lib/python3.7/site-packages/sklearn/externals/joblib/__init__.py:15: DeprecationWarning: sklearn.externals.joblib is deprecated in 0.21 and will be removed in 0.23. Please import this functionality directly from joblib, which can be installed with: pip install joblib. If this warning is raised when loading pickled models, you may need to re-serialize those models with scikit-learn 0.21+.\n",
      "  warnings.warn(msg, category=DeprecationWarning)\n"
     ]
    }
   ],
   "source": [
    "import os\n",
    "import os.path as op\n",
    "import glob\n",
    "import shutil\n",
    "import warnings\n",
    "import subprocess\n",
    "from pathlib import Path\n",
    "\n",
    "from ndmg.scripts import ndmg_dwi_pipeline\n",
    "from ndmg.utils import s3_utils"
   ]
  },
  {
   "cell_type": "markdown",
   "metadata": {},
   "source": [
    "## Check for dependencies, Set Directories"
   ]
  },
  {
   "cell_type": "markdown",
   "metadata": {},
   "source": [
    "The below code is a simple check that makes sure AFNI and FSL are installed. <br>\n",
    "We also set the input, data, and atlas paths."
   ]
  },
  {
   "cell_type": "markdown",
   "metadata": {},
   "source": [
    "#### Make sure that AFNI and FSL are installed"
   ]
  },
  {
   "cell_type": "code",
   "execution_count": 2,
   "metadata": {},
   "outputs": [
    {
     "name": "stdout",
     "output_type": "stream",
     "text": [
      "Your fsl directory is located here: /usr/share/fsl/5.0\n",
      "Your AFNI directory is located here: /opt/afni/afni\n",
      "\n"
     ]
    }
   ],
   "source": [
    "# FSL\n",
    "try:\n",
    "    print(f\"Your fsl directory is located here: {os.environ['FSLDIR']}\")\n",
    "except KeyError:\n",
    "    raise AssertionError(\"You do not have FSL installed! See installation instructions here: https://fsl.fmrib.ox.ac.uk/fsl/fslwiki/FslInstallation\")\n",
    "    \n",
    "# AFNI\n",
    "try:\n",
    "    print(f\"Your AFNI directory is located here: {subprocess.check_output('which afni', shell=True, universal_newlines=True)}\")\n",
    "except subprocess.CalledProcessError:\n",
    "    raise AssertionError(\"You do not have AFNI installed! See installation instructions here: https://afni.nimh.nih.gov/pub/dist/doc/htmldoc/background_install/main_toc.html\")"
   ]
  },
  {
   "cell_type": "markdown",
   "metadata": {},
   "source": [
    "#### Set Input, Output, and Atlas Locations"
   ]
  },
  {
   "cell_type": "code",
   "execution_count": 3,
   "metadata": {},
   "outputs": [
    {
     "name": "stdout",
     "output_type": "stream",
     "text": [
      "Your output directory will be : /mnt/labbook/input/overview_untracked\n"
     ]
    }
   ],
   "source": [
    "# Make data directory if it doesn't exist\n",
    "ndmg_dir = Path(\"/mnt/labbook/input/\")\n",
    "data_dir = ndmg_dir / \"data/BNU1\"\n",
    "atlas_dir = Path(\"/ndmg_atlases\")\n",
    "\n",
    "\n",
    "# Set an output directory\n",
    "outdir = '/mnt/labbook/input/overview_untracked'\n",
    "print(f\"Your output directory will be : {outdir}\")"
   ]
  },
  {
   "cell_type": "markdown",
   "metadata": {},
   "source": [
    "## Choose input parameters"
   ]
  },
  {
   "cell_type": "markdown",
   "metadata": {},
   "source": [
    "#### Naming Conventions\n",
    "Here, we define input variables to the pipeline.\n",
    "To run the `ndmg` pipeline, you need four files:\n",
    "1. a `t1w` - this is a high-resolution anatomical image.\n",
    "2. a `dwi` - the diffusion image.\n",
    "3. bvecs - this is a text file that defines the gradient vectors created by a DWI scan.\n",
    "4. bvals - this is a text file that defines magnitudes for the gradient vectors created by a DWI scan.\n",
    "\n",
    "The naming convention is in the [BIDs](https://bids.neuroimaging.io/) spec."
   ]
  },
  {
   "cell_type": "code",
   "execution_count": 4,
   "metadata": {},
   "outputs": [
    {
     "name": "stdout",
     "output_type": "stream",
     "text": [
      "/mnt/labbook/input/data/BNU1/sub-0025864/ses-1/anat/sub-0025864_ses-1_T1w.nii.gz\n",
      "/mnt/labbook/input/data/BNU1/sub-0025864/ses-1/dwi/sub-0025864_ses-1_dwi.nii.gz\n",
      "/mnt/labbook/input/data/BNU1/sub-0025864/ses-1/dwi/sub-0025864_ses-1_dwi.bvec\n",
      "/mnt/labbook/input/data/BNU1/sub-0025864/ses-1/dwi/sub-0025864_ses-1_dwi.bval\n"
     ]
    }
   ],
   "source": [
    "# Specify base directory and paths to input files (dwi, bvecs, bvals, and t1w required)\n",
    "subject_id = 'sub-0025864'\n",
    "\n",
    "# Define the location of our input files.\n",
    "t1w = str(data_dir / f\"{subject_id}/ses-1/anat/{subject_id}_ses-1_T1w.nii.gz\")\n",
    "dwi = str(data_dir / f\"{subject_id}/ses-1/dwi/{subject_id}_ses-1_dwi.nii.gz\")\n",
    "bvecs = str(data_dir / f\"{subject_id}/ses-1/dwi/{subject_id}_ses-1_dwi.bvec\")\n",
    "bvals = str(data_dir / f\"{subject_id}/ses-1/dwi/{subject_id}_ses-1_dwi.bval\")\n",
    "\n",
    "print(t1w)\n",
    "print(dwi)\n",
    "print(bvecs)\n",
    "print(bvals)"
   ]
  },
  {
   "cell_type": "markdown",
   "metadata": {},
   "source": [
    "### Parameter Choices and Output Directory\n",
    "Here, we choose the parameters to run the pipeline with.\n",
    "If you are inexperienced with diffusion MRI theory, feel free to just use the default parameters.\n",
    "\n",
    "- *atlases = ['desikan', 'CPAC200', 'DKT', 'HarvardOxfordcort', 'HarvardOxfordsub', 'JHU', 'Schaefer2018-200', 'Talairach', 'aal', 'brodmann', 'glasser', 'yeo-7-liberal', 'yeo-17-liberal']* : The atlas that defines the node location of the graph you create.\n",
    "- *mod_types = ['det', 'prob']* : Deterministic or probablistic tractography.\n",
    "- *track_types = ['local', 'particle']* : Local or particle tracking.\n",
    "- *mods = ['csa', 'csd']* : [Constant Solid Angle](https://www.ncbi.nlm.nih.gov/pmc/articles/PMC4360965/) or [Constrained Spherical Deconvolution](https://onlinelibrary.wiley.com/doi/10.1002/ima.22005).\n",
    "- regs = *['native', 'native_dsn', 'mni']* : Registration style. If native, do all registration in each scan's space; if mni, register scans to the MNI atlas; if native_dsn, do registration in native space, and then fit the streamlines to MNI space.\n",
    "- vox_size = *['1mm', '2mm']* : Whether our voxels are 1mm or 2mm.\n",
    "- seeds = int : Seeding density for tractography. More seeds generally results in a better graph, but at a much higher computational cost."
   ]
  },
  {
   "cell_type": "code",
   "execution_count": 5,
   "metadata": {},
   "outputs": [],
   "source": [
    "# Use the default parameters.\n",
    "atlas = 'desikan'\n",
    "mod_type = 'prob'\n",
    "track_type = 'local'\n",
    "mod_func = 'csd'\n",
    "reg_style = 'native'\n",
    "vox_size = '2mm'\n",
    "seeds = 1\n"
   ]
  },
  {
   "cell_type": "markdown",
   "metadata": {},
   "source": [
    "#### Get masks and labels\n",
    "The pipeline needs these two variables as input. <br>\n",
    "Running the pipeline via `ndmg_bids` does this for you."
   ]
  },
  {
   "cell_type": "code",
   "execution_count": 6,
   "metadata": {},
   "outputs": [
    {
     "name": "stdout",
     "output_type": "stream",
     "text": [
      "mask location : /ndmg_atlases/atlases/mask/MNI152NLin6_res-2x2x2_T1w_descr-brainmask.nii.gz\n",
      "atlas location : ['/ndmg_atlases/atlases/label/Human/desikan_space-MNI152NLin6_res-2x2x2.nii.gz']\n"
     ]
    }
   ],
   "source": [
    "# Auto-set paths to neuroparc files\n",
    "mask = str(atlas_dir / \"atlases/mask/MNI152NLin6_res-2x2x2_T1w_descr-brainmask.nii.gz\")\n",
    "labels = [str(i) for i in (atlas_dir / \"atlases/label/Human/\").glob(f\"*{atlas}*2x2x2.nii.gz\")]\n",
    "\n",
    "print(f\"mask location : {mask}\")\n",
    "print(f\"atlas location : {labels}\")"
   ]
  },
  {
   "cell_type": "markdown",
   "metadata": {},
   "source": [
    "## Run the pipeline!"
   ]
  },
  {
   "cell_type": "code",
   "execution_count": null,
   "metadata": {},
   "outputs": [
    {
     "name": "stdout",
     "output_type": "stream",
     "text": [
      "dwi = /mnt/labbook/input/data/BNU1/sub-0025864/ses-1/dwi/sub-0025864_ses-1_dwi.nii.gz\n",
      "bvals = /mnt/labbook/input/data/BNU1/sub-0025864/ses-1/dwi/sub-0025864_ses-1_dwi.bval\n",
      "bvecs = /mnt/labbook/input/data/BNU1/sub-0025864/ses-1/dwi/sub-0025864_ses-1_dwi.bvec\n",
      "t1w = /mnt/labbook/input/data/BNU1/sub-0025864/ses-1/anat/sub-0025864_ses-1_T1w.nii.gz\n",
      "atlas = desikan\n",
      "mask = /ndmg_atlases/atlases/mask/MNI152NLin6_res-2x2x2_T1w_descr-brainmask.nii.gz\n",
      "labels = ['/ndmg_atlases/atlases/label/Human/desikan_space-MNI152NLin6_res-2x2x2.nii.gz']\n",
      "outdir = /mnt/labbook/input/overview_untracked\n",
      "vox_size = 2mm\n",
      "mod_type = prob\n",
      "track_type = local\n",
      "mod_func = csd\n",
      "seeds = 1\n",
      "reg_style = native\n",
      "clean = False\n",
      "skip eddy = True\n",
      "skip registration = True\n",
      "Output directory: /mnt/labbook/input/overview_untracked\n",
      "Adding directory tree...\n",
      "Connectomes downsampled to given labels: /mnt/labbook/input/overview_untracked/dwi/roi-connectomes/desikan_space-MNI152NLin6_res-2x2x2/sub-0025864_ses-1_dwi_desikan_space-MNI152NLin6_res-2x2x2_measure-spatial-ds_adj.csv\n",
      "Performing eddy correction...\n",
      "eddy_correct /mnt/labbook/input/data/BNU1/sub-0025864/ses-1/dwi/sub-0025864_ses-1_dwi.nii.gz /mnt/labbook/input/overview_untracked/dwi/preproc/eddy_corrected_data.nii.gz 0\n",
      "0\n",
      "2019-08-22 04:06:02\n",
      "Rescaling b-vectors...\n",
      "Reorienting /mnt/labbook/input/overview_untracked/dwi/preproc/eddy_corrected_data.nii.gz to RAS+...\n",
      "Reorienting runtime: 0.9s\n",
      "Reslicing image /mnt/labbook/input/overview_untracked/dwi/preproc/eddy_corrected_data_reor_RAS.nii.gz to 2mm...\n",
      "Reslicing runtime: 9.5s\n",
      "fbval:  /mnt/labbook/input/overview_untracked/dwi/preproc/bval.bval\n",
      "bvecs:  /mnt/labbook/input/overview_untracked/dwi/preproc/bvecs_reor.bvec\n",
      "fbvec:  /mnt/labbook/input/overview_untracked/dwi/preproc/bvec.bvec\n",
      "dwi_prep:  /mnt/labbook/input/overview_untracked/dwi/preproc/eddy_corrected_data_reor_RAS_res.nii.gz\n",
      "namer.dirs:  /mnt/labbook/input/overview_untracked/dwi/preproc\n",
      "/mnt/labbook/input/overview_untracked/dwi/preproc/bval.bval\n",
      "/mnt/labbook/input/overview_untracked/dwi/preproc/bvec.bvec\n",
      "B0's found at: [0]\n",
      "B-values shape (16,)\n",
      "         min 0.000000 \n",
      "         max 1000.000000 \n",
      "B-vectors shape (16, 3)\n",
      "         min -0.978756 \n",
      "         max 0.941755 \n",
      "None\n",
      "Extracting B0's...\n",
      "0\n",
      "fslroi /mnt/labbook/input/overview_untracked/dwi/preproc/eddy_corrected_data_reor_RAS_res.nii.gz /mnt/labbook/input/overview_untracked/dwi/preproc/0_B0.nii.gz 0 1\n",
      "Preprocessing runtime: 13.4s\n",
      "Reorienting /mnt/labbook/input/data/BNU1/sub-0025864/ses-1/anat/sub-0025864_ses-1_T1w.nii.gz to RAS+...\n",
      "Reslicing image /mnt/labbook/input/overview_untracked/anat/preproc/sub-0025864_ses-1_T1w_reor_RAS.nii.gz to 2mm...\n",
      "Reorienting runtime: 1.4s\n",
      "Running tractography in native space...\n",
      "Extracting brain from raw T1w image...\n",
      "Executing: 3dSkullStrip -prefix /mnt/labbook/input/overview_untracked/anat/preproc/t1w_brain.nii.gz -input /mnt/labbook/input/overview_untracked/anat/preproc/sub-0025864_ses-1_T1w_reor_RAS_res.nii.gz\n",
      "Segmenting Anatomical Image into WM, GM, and CSF with FSL's FAST:\n",
      "Executing fast: fast -t 1  -n 3 -o /mnt/labbook/input/overview_untracked/anat/preproc/t1w_seg /mnt/labbook/input/overview_untracked/anat/preproc/t1w_brain.nii.gz\n",
      "Reslicing image /mnt/labbook/input/overview_untracked/anat/preproc/t1w_brain.nii.gz to 2mm...\n",
      "Reslicing image /mnt/labbook/input/overview_untracked/anat/preproc/t1w_seg_pve_2.nii.gz to 2mm...\n",
      "Reslicing image /mnt/labbook/input/overview_untracked/anat/preproc/t1w_seg_pve_1.nii.gz to 2mm...\n",
      "Reslicing image /mnt/labbook/input/overview_untracked/anat/preproc/t1w_seg_pve_0.nii.gz to 2mm...\n",
      "fslmaths /mnt/labbook/input/overview_untracked/anat/preproc/t1w_wm_thr.nii.gz -edge -bin -mas /mnt/labbook/input/overview_untracked/anat/preproc/t1w_wm_thr.nii.gz /mnt/labbook/input/overview_untracked/tmp/reg_a/t1w_wm_edge.nii.gz\n",
      "gen_tissue runtime: 181.5s\n",
      "flirt -in /mnt/labbook/input/overview_untracked/anat/preproc/t1w_brain_nores.nii.gz -ref /usr/share/fsl/5.0/data/standard/MNI152_T1_2mm_brain.nii.gz -omat /mnt/labbook/input/overview_untracked/tmp/reg_m/xfm_t1w2mni_init.mat -dof 12 -interp spline -cost mutualinfo -searchrx -180 180 -searchry -180 180 -searchrz -180 180\n",
      "Running non-linear registration: T1w-->MNI ...\n",
      "fnirt --in=/mnt/labbook/input/overview_untracked/anat/preproc/t1w_brain_nores.nii.gz --ref=/usr/share/fsl/5.0/data/standard/MNI152_T1_2mm_brain.nii.gz --aff=/mnt/labbook/input/overview_untracked/tmp/reg_m/xfm_t1w2mni_init.mat --iout=/mnt/labbook/input/overview_untracked/anat/preproc/t1w_aligned_mni.nii.gz --cout=/mnt/labbook/input/overview_untracked/tmp/reg_a/warp_t12mni.nii.gz --warpres=8,8,8 --refmask=/usr/share/fsl/5.0/data/standard/MNI152_T1_2mm_brain_mask.nii.gz --applyrefmask=1 --config=/usr/share/fsl/5.0/etc/flirtsch/T1_2_MNI152_2mm.cnf\n"
     ]
    }
   ],
   "source": [
    "ndmg_dwi_pipeline.ndmg_dwi_worker(dwi=dwi, bvals=bvals, bvecs=bvecs, t1w=t1w, atlas=atlas, mask=mask, labels=labels, outdir=outdir, vox_size=vox_size, mod_type=mod_type, track_type=track_type, mod_func=mod_func, seeds=seeds, reg_style=reg_style, clean=False, skipeddy=True, skipreg=True)"
   ]
  },
  {
   "cell_type": "markdown",
   "metadata": {},
   "source": [
    "# Try It Yourself : Command Line"
   ]
  },
  {
   "cell_type": "markdown",
   "metadata": {},
   "source": [
    "`ndmg` runs best as a standalone program on the command line.\n",
    "\n",
    "The simplest form of the command, given that you have input data, pass an output folder, and have all dependencies installed, is the following:\n",
    "    \n",
    "    ndmg_bids </absolute/input/dir> </absolute/output/dir>\n",
    "    \n",
    "Here, we'll show you how to set this up yourself."
   ]
  },
  {
   "cell_type": "markdown",
   "metadata": {},
   "source": [
    "## Setup: Running Locally"
   ]
  },
  {
   "cell_type": "markdown",
   "metadata": {},
   "source": [
    "1. install [FSL](https://fsl.fmrib.ox.ac.uk/fsl/fslwiki/FslInstallation)\n",
    "2. install [AFNI](https://afni.nimh.nih.gov/pub/dist/doc/htmldoc/background_install/install_instructs/index.html)\n",
    "3. `git clone https://github.com/neurodata/ndmg.git`\n",
    "4. `cd ndmg`\n",
    "5. `pip install -r requirements.txt`\n",
    "6. `pip install .`"
   ]
  },
  {
   "cell_type": "markdown",
   "metadata": {},
   "source": [
    "## Running Locally"
   ]
  },
  {
   "cell_type": "markdown",
   "metadata": {},
   "source": [
    "### Most Basic"
   ]
  },
  {
   "cell_type": "markdown",
   "metadata": {},
   "source": [
    "This will run the first session from your input dataset, and put the results into the output dataset.\n",
    "We still recommend the `--atlas` flag so that graphs don't get generated on all possible atlases.\n",
    "\n",
    "    ndmg_bids --atlas desikan </absolute/input/dir> </absolute/output/dir>"
   ]
  },
  {
   "cell_type": "markdown",
   "metadata": {},
   "source": [
    "### Specifying Participant and Session\n",
    "\n",
    "You can also specify a particular participant and session.\n",
    "(This is extremely useful for setting up batch scripts to run large datasets).\n",
    "\n",
    "    ndmg_bids --atlas desikan --participant_label <label> --session_label <number> </absolute/input/dir> </absolute/output/dir>"
   ]
  },
  {
   "cell_type": "markdown",
   "metadata": {},
   "source": [
    "### Different Registration Styles, Diffusion Models, Tractography Styles"
   ]
  },
  {
   "cell_type": "markdown",
   "metadata": {},
   "source": [
    "You can use:\n",
    "- the `--sp` flag to set the registration space;\n",
    "- the `--mf` flag to set the diffusion model; and\n",
    "- the `--mod` flag to set deterministic / probablistic tracking;\n",
    "\n",
    "\n",
    "    ndmg_bids --atlas desikan --sp <space> --mf <model> --mod <tracking style> </absolute/input/dir> </absolute/output/dir>"
   ]
  },
  {
   "cell_type": "markdown",
   "metadata": {},
   "source": [
    "## Setup: Running in Docker"
   ]
  },
  {
   "cell_type": "markdown",
   "metadata": {},
   "source": [
    "If you're having problems installing the program locally, it's often easier to use Docker.\n",
    "\n",
    "1. install [docker](https://docs.docker.com/install/)\n",
    "2. `docker pull neurodata/ndmg_dev:latest`"
   ]
  },
  {
   "cell_type": "markdown",
   "metadata": {},
   "source": [
    "## Running in Docker"
   ]
  },
  {
   "cell_type": "markdown",
   "metadata": {},
   "source": [
    "### Option A (Docker executable approach):\n",
    "Once you've downloaded the docker image, you can:\n",
    "Attach your local input and output folders with `-v`, <br>\n",
    "Run the image, <br>\n",
    "and input your participant and session labels into the container.\n",
    "\n",
    "    docker run -ti --rm --privileged -e DISPLAY=$DISPLAY -v <absolute/path/to/input/data>:/input -v <absolute/path/to/output/data>:/outputs neurodata/ndmg_dev:latest --participant_label <label> --session_label <number> --atlas desikan /input /output"
   ]
  },
  {
   "cell_type": "markdown",
   "metadata": {},
   "source": [
    "### Option B (Inside Docker container):\n",
    "\n",
    "You can also enter the container yourself and then run `ndmg` from inside the container.\n",
    "\n",
    "    docker run -ti --rm --privileged --entrypoint /bin/bash -e DISPLAY=$DISPLAY -v <absolute/path/to/input/data>/input -v <absolute/path/to/output/data>/output ndmg_dev:latest\n",
    "\n",
    "    ndmg_bids --participant_label <label> --session_label <number> --atlas desikan /input /output"
   ]
  }
 ],
 "metadata": {
  "kernelspec": {
   "display_name": "Python 3",
   "language": "python",
   "name": "python3"
  },
  "language_info": {
   "codemirror_mode": {
    "name": "ipython",
    "version": 3
   },
   "file_extension": ".py",
   "mimetype": "text/x-python",
   "name": "python",
   "nbconvert_exporter": "python",
   "pygments_lexer": "ipython3",
   "version": "3.7.3"
  }
 },
 "nbformat": 4,
 "nbformat_minor": 4
}
